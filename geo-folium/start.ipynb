{
 "cells": [
  {
   "cell_type": "code",
   "execution_count": null,
   "metadata": {},
   "outputs": [],
   "source": [
    "import pandas as pd\n",
    "import matplotlib.pyplot as plt\n",
    "import geopandas as gpd\n",
    "import folium"
   ]
  },
  {
   "cell_type": "code",
   "execution_count": null,
   "metadata": {},
   "outputs": [],
   "source": [
    "gdf = gpd.read_file('/Users/nonthachaiplodthong/Documents/Nons_work/non-1b/non-1b/geo-folium/data/NEIGHBORHOODS_WGS84_2.shp')\n",
    "print(gdf)"
   ]
  },
  {
   "cell_type": "code",
   "execution_count": null,
   "metadata": {},
   "outputs": [],
   "source": [
    "gdf.plot(color=\"green\", edgecolor=\"white\", legend=True)\n",
    "plt.show()"
   ]
  },
  {
   "cell_type": "code",
   "execution_count": null,
   "metadata": {},
   "outputs": [],
   "source": [
    "covid_demo = pd.read_csv('/Users/nonthachaiplodthong/Documents/Nons_work/non-1b/non-1b/geo-folium/data/covid-19-immunization-clinics - 4326.csv')\n",
    "covid_demo.head()"
   ]
  },
  {
   "cell_type": "code",
   "execution_count": null,
   "metadata": {},
   "outputs": [],
   "source": [
    "gdf['AREA_S_CD'] = gdf['AREA_S_CD'].astype(int)\n",
    "gdf2 = pd.merge(gdf, covid_demo, left_on='AREA_S_CD', right_on='_id')\n",
    "gdf2.head()\n"
   ]
  },
  {
   "cell_type": "code",
   "execution_count": null,
   "metadata": {},
   "outputs": [],
   "source": [
    "gdf = gpd.read_file(\"/Users/nonthachaiplodthong/Documents/Nons_work/non-1b/non-1b/geo-folium/data/NEIGHBORHOODS_WGS84_2.shp\")\n",
    "\n",
    "gdf.head()"
   ]
  },
  {
   "cell_type": "code",
   "execution_count": null,
   "metadata": {},
   "outputs": [],
   "source": [
    "# Read the neighborhood shapefile data and plot\n",
    "gdf.plot(color=\"white\", edgecolor=\"black\")\n",
    "plt.show()"
   ]
  },
  {
   "cell_type": "code",
   "execution_count": null,
   "metadata": {},
   "outputs": [],
   "source": [
    "# Read the demographic data\n",
    "demo = pd.read_csv(\"/Users/nonthachaiplodthong/Documents/Nons_work/non-1b/non-1b/geo-folium/data/WB-demographic.csv\")\n",
    "demo.head()"
   ]
  },
  {
   "cell_type": "code",
   "execution_count": null,
   "metadata": {},
   "outputs": [],
   "source": [
    "# Convert neighborhood code to int for joining\n",
    "gdf['AREA_S_CD'] = gdf['AREA_S_CD'].astype(int)\n",
    "\n",
    "# Merge on Neighborhood ID\n",
    "gdf2 = pd.merge(gdf, demo, left_on=\"AREA_S_CD\", right_on=\"Neighbourhood Id\")\n",
    "\n",
    "gdf2.head()"
   ]
  },
  {
   "cell_type": "code",
   "execution_count": null,
   "metadata": {},
   "outputs": [],
   "source": [
    "gdf2.plot('Total Population', cmap='Greens', figsize=(10, 10), legend=True)\n",
    "plt.axis('off')\n",
    "plt.title('Toronto Neighborhoods by Population')\n",
    "plt.show()"
   ]
  },
  {
   "cell_type": "code",
   "execution_count": null,
   "metadata": {},
   "outputs": [],
   "source": [
    "gdf2.plot('Total Population', cmap='Spectral_r', figsize=(10, 10), legend=True)\n",
    "plt.axis('off')\n",
    "plt.title('Toronto Neighborhoods by Population')\n",
    "plt.show()"
   ]
  },
  {
   "cell_type": "code",
   "execution_count": null,
   "metadata": {},
   "outputs": [],
   "source": [
    "demo = demo.rename(columns={'Neighbourhood Id':'neighbourhood_id', 'Total Population':'total_pop'})\n",
    "\n",
    "demo.head()"
   ]
  },
  {
   "cell_type": "code",
   "execution_count": null,
   "metadata": {},
   "outputs": [],
   "source": [
    "# Prepare tooltip - combination of neighbourhood and population columns in a string\n",
    "gdf2['tooltip'] = gdf2.apply(lambda x: x['Neighbourhood'] + ' ' + str(x['Total Population']), axis=1)\n",
    "\n",
    "# Check\n",
    "gdf2['tooltip'].head()"
   ]
  },
  {
   "cell_type": "code",
   "execution_count": null,
   "metadata": {},
   "outputs": [],
   "source": [
    "# Prepare tooltip - combination of neighbourhood and population columns in a string\n",
    "gdf2['tooltip'] = gdf2.apply(lambda x: x['Neighbourhood'] + ' ' + str(x['Total Population']), axis=1)\n",
    "\n",
    "# Check\n",
    "gdf2['tooltip'].head()\n",
    "# Base map\n",
    "tdot_map = folium.Map(location=[43.7, -79.4], zoom_start=12)\n",
    "\n",
    "# Choropleth\n",
    "choropleth = folium.Choropleth(geo_data=gdf2, \n",
    "                  data=demo, \n",
    "                  columns=['neighbourhood_id', 'total_pop'], \n",
    "                  key_on=\"feature.properties.AREA_S_CD\",).add_to(tdot_map)\n",
    "\n",
    "# Add tooltip \n",
    "folium.LayerControl().add_to(tdot_map)\n",
    "choropleth.geojson.add_child(\n",
    "    folium.features.GeoJsonTooltip(['tooltip'], labels=False)\n",
    ")\n",
    "\n",
    "tdot_map"
   ]
  },
  {
   "cell_type": "code",
   "execution_count": null,
   "metadata": {},
   "outputs": [],
   "source": [
    "df = pd.read_csv('/Users/nonthachaiplodthong/Documents/Nons_work/non-1b/non-1b/geo-folium/data/COVID19 cases.csv')\n",
    "df.head()"
   ]
  },
  {
   "cell_type": "markdown",
   "metadata": {},
   "source": [
    "\n",
    "# The comparison reveals discrepancies in neighbourhood names between the COVID-19 cases data and the demographic data. Some neighbourhoods are present in one dataset and not in the other, and there are variations in spelling and punctuation. Here are the findings:\n",
    "\n",
    "- Neighbourhoods in the COVID dataset not in the demographic dataset:\n",
    "    Dovercourt-Wallace Emerson-Junction\n",
    "    Briar Hill - Belgravia\n",
    "    Mimico (includes Humber Bay Shores)\n",
    "    North St. James Town\n",
    "    Cabbagetown-South St. James Town\n",
    "\n",
    "- Neighbourhoods in the demographic dataset not in the COVID dataset:\n",
    "    North St.James Town\n",
    "    Cabbagetown-South St.James Town\n",
    "    Mimico\n",
    "    Briar Hill-Belgravia\n",
    "    Dovercourt-Wallace Emerson-Juncti\n",
    "\n",
    "# It appears that the discrepancies may be due to differences in spelling, use of punctuation, and abbreviations. For example:\n",
    "    \"North St. James Town\" vs. \"North St.James Town\"\n",
    "    \"Cabbagetown-South St. James Town\" vs. \"Cabbagetown-South St.James Town\"\n",
    "    \"Briar Hill - Belgravia\" vs. \"Briar Hill-Belgravia\"\n",
    "    \"Dovercourt-Wallace Emerson-Junction\" seems to be abbreviated to \"Dovercourt-Wallace Emerson-Juncti\" in the demographic dataset.    "
   ]
  },
  {
   "cell_type": "code",
   "execution_count": null,
   "metadata": {},
   "outputs": [],
   "source": []
  }
 ],
 "metadata": {
  "kernelspec": {
   "display_name": ".venv",
   "language": "python",
   "name": "python3"
  },
  "language_info": {
   "codemirror_mode": {
    "name": "ipython",
    "version": 3
   },
   "file_extension": ".py",
   "mimetype": "text/x-python",
   "name": "python",
   "nbconvert_exporter": "python",
   "pygments_lexer": "ipython3",
   "version": "3.11.5"
  },
  "orig_nbformat": 4
 },
 "nbformat": 4,
 "nbformat_minor": 2
}
