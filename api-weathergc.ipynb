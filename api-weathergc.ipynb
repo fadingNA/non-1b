{
 "cells": [
  {
   "cell_type": "code",
   "execution_count": null,
   "metadata": {},
   "outputs": [],
   "source": [
    "import requests\n",
    "import pandas as pd\n"
   ]
  },
  {
   "cell_type": "code",
   "execution_count": null,
   "metadata": {},
   "outputs": [],
   "source": [
    "def get_request(url, endpoint):\n",
    "    response = requests.get(url+endpoint)\n",
    "    if response.status_code == 200:\n",
    "        return response.json()\n",
    "    else:\n",
    "        return f\"Error + {response.status_code}\""
   ]
  },
  {
   "cell_type": "code",
   "execution_count": null,
   "metadata": {},
   "outputs": [],
   "source": [
    "api_url = \"https://api.weather.gc.ca/\"\n",
    "climate_hourly_endpoint = \"collections/climate-hourly/items\"\n"
   ]
  },
  {
   "cell_type": "code",
   "execution_count": null,
   "metadata": {},
   "outputs": [],
   "source": [
    "data = get_request(api_url, climate_hourly_endpoint)\n",
    "climate_hourly_df = data['features']"
   ]
  },
  {
   "cell_type": "code",
   "execution_count": null,
   "metadata": {},
   "outputs": [],
   "source": [
    "if isinstance(data, dict) and 'items' in data:\n",
    "    properties_list = [item['properties'] for item in data['items'] if item['properties']['LOCAL_YEAR'] > 2010]\n",
    "    df_hourly_climate = pd.DataFrame(properties_list)\n",
    "else:\n",
    "    print(\"Unexpected data structure or error in data retrieval\")"
   ]
  },
  {
   "cell_type": "code",
   "execution_count": null,
   "metadata": {},
   "outputs": [],
   "source": [
    "df = pd.DataFrame(climate_hourly_df)"
   ]
  },
  {
   "cell_type": "code",
   "execution_count": null,
   "metadata": {},
   "outputs": [],
   "source": [
    "df.to_csv('weathergc.csv', index=False)"
   ]
  },
  {
   "cell_type": "code",
   "execution_count": null,
   "metadata": {},
   "outputs": [],
   "source": [
    "year_sorted_url = \"https://api.weather.gc.ca\""
   ]
  },
  {
   "cell_type": "code",
   "execution_count": null,
   "metadata": {},
   "outputs": [],
   "source": [
    "df_2015 = pd.DataFrame(data_2015['features'])\n",
    "df_2015.to_csv('weathergc_2015.csv', index=False)"
   ]
  },
  {
   "cell_type": "code",
   "execution_count": null,
   "metadata": {},
   "outputs": [],
   "source": [
    "data_ahhcc = get_request(year_sorted_url, \"/collections/ahccd-annual/items?limit=10000&f=json\")\n",
    "data_ahhcc"
   ]
  },
  {
   "cell_type": "code",
   "execution_count": null,
   "metadata": {},
   "outputs": [],
   "source": [
    "data_ahccd = get_request(year_sorted_url, \"/collections/ahccd-stations/items?limit=10000&f=json\")\n",
    "data_ahccd"
   ]
  },
  {
   "cell_type": "code",
   "execution_count": null,
   "metadata": {},
   "outputs": [],
   "source": [
    "data_ltce = get_request(year_sorted_url, \"/collections/ltce-stations/items?limit=10000&f=json\")\n",
    "data_ltce"
   ]
  },
  {
   "cell_type": "code",
   "execution_count": null,
   "metadata": {},
   "outputs": [],
   "source": [
    "data_ltce_temperature = get_request(year_sorted_url, \"/collections/ltce-temperature/items?limit=10000&f=json\")\n",
    "data_ltce_temperature\n",
    "df_ltce_temperature = pd.DataFrame(data_ltce_temperature['features'])\n",
    "df_ltce_temperature"
   ]
  },
  {
   "cell_type": "code",
   "execution_count": null,
   "metadata": {},
   "outputs": [],
   "source": [
    "data_cmip5_projected = get_request(year_sorted_url, \"/collections/climate:cmip5:projected:annual:anomaly?limit=10000&f=json\")\n",
    "data_cmip5_projected"
   ]
  },
  {
   "cell_type": "code",
   "execution_count": null,
   "metadata": {},
   "outputs": [],
   "source": [
    "data_indiced_historical = get_request(year_sorted_url, \"/collections/climate:indices:historical/coverage/domainset?limit=10000&f=json\")\n",
    "data_indiced_historical"
   ]
  },
  {
   "cell_type": "code",
   "execution_count": null,
   "metadata": {},
   "outputs": [],
   "source": [
    "data_spei_1 = get_request(year_sorted_url, \"/collections/climate:spei-1:historical\")\n",
    "data_spei_1"
   ]
  },
  {
   "cell_type": "code",
   "execution_count": null,
   "metadata": {},
   "outputs": [],
   "source": [
    "data_climate_hourly = get_request(year_sorted_url, \"/collections/climate-hourly/items?limit=10000&f=json\")\n",
    "data_climate_hourly\n",
    "df_climate_hourl = pd.DataFrame(data_climate_hourly['features'])\n",
    "df_climate_hourl"
   ]
  },
  {
   "cell_type": "code",
   "execution_count": null,
   "metadata": {},
   "outputs": [],
   "source": [
    "data_cansip = get_request(year_sorted_url, \"/collections/weather:cansips:250km:forecast:members/coverage\")\n",
    "data_cansip"
   ]
  },
  {
   "cell_type": "code",
   "execution_count": null,
   "metadata": {},
   "outputs": [],
   "source": [
    "data_metric_daily = get_request(year_sorted_url, \"/collections/hydrometric-daily-mean/items\")\n",
    "data_metric_daily"
   ]
  },
  {
   "cell_type": "code",
   "execution_count": null,
   "metadata": {},
   "outputs": [],
   "source": [
    "data_climate_normals = get_request(year_sorted_url, \"/collections/climate-normals/items\")\n",
    "data_climate_normals"
   ]
  },
  {
   "cell_type": "code",
   "execution_count": null,
   "metadata": {},
   "outputs": [],
   "source": [
    "data_climate_monthly = get_request(year_sorted_url, \"/collections/climate-monthly/items?limit=10000&f=json\")\n",
    "data_climate_monthly"
   ]
  },
  {
   "cell_type": "code",
   "execution_count": null,
   "metadata": {},
   "outputs": [],
   "source": [
    "data_ahccd_trends = get_request(year_sorted_url, \"/collections/ahccd-trends/items\")\n",
    "data_ahccd_trends"
   ]
  },
  {
   "cell_type": "code",
   "execution_count": null,
   "metadata": {},
   "outputs": [],
   "source": [
    "data_swob_realtime = get_request(year_sorted_url, \"/collections/swob-realtime/items\")\n",
    "data_swob_realtime"
   ]
  },
  {
   "cell_type": "code",
   "execution_count": null,
   "metadata": {},
   "outputs": [],
   "source": [
    "data_ltce_station = get_request(year_sorted_url, \"/collections/ltce-stations/items\")\n",
    "data_ltce_station"
   ]
  },
  {
   "cell_type": "code",
   "execution_count": null,
   "metadata": {},
   "outputs": [],
   "source": [
    "data_aqhi_forecast = get_request(year_sorted_url, \"/collections/aqhi-forecasts-realtime/items\")\n",
    "data_aqhi_forecast"
   ]
  },
  {
   "cell_type": "code",
   "execution_count": null,
   "metadata": {},
   "outputs": [],
   "source": [
    "data_forecast_daily = get_request(\"https://api.weather.gc.ca/collections/climate-hourly/items?stationID=51459&climateDate=2021-07-01/2021-07-31\", \"\")\n",
    "data_forecast_daily"
   ]
  },
  {
   "cell_type": "code",
   "execution_count": null,
   "metadata": {},
   "outputs": [],
   "source": [
    "data_forecast_daily"
   ]
  },
  {
   "cell_type": "code",
   "execution_count": null,
   "metadata": {},
   "outputs": [],
   "source": [
    "import ast\n",
    "\n",
    "# Function to safely parse a string representation of a dictionary\n",
    "def safe_parse_dict(column):\n",
    "    return column.apply(ast.literal_eval)\n",
    "\n",
    "weather_df = pd.read_csv('weathergc.csv')\n",
    "\n",
    "# Applying the function to 'geometry' and 'properties' columns\n",
    "weather_df['geometry'] = safe_parse_dict(weather_df['geometry'])\n",
    "weather_df['properties'] = safe_parse_dict(weather_df['properties'])\n",
    "\n",
    "# Expanding the nested dictionaries into separate columns\n",
    "geometry_df = weather_df['geometry'].apply(pd.Series)\n",
    "properties_df = weather_df['properties'].apply(pd.Series)\n",
    "\n",
    "# Merging the expanded columns back into the main DataFrame\n",
    "weather_df_expanded = pd.concat([weather_df.drop(['geometry', 'properties'], axis=1), geometry_df, properties_df], axis=1)\n",
    "\n",
    "# Displaying the first few rows of the expanded DataFrame\n",
    "weather_df_expanded.head()\n"
   ]
  }
 ],
 "metadata": {
  "kernelspec": {
   "display_name": ".venv",
   "language": "python",
   "name": "python3"
  },
  "language_info": {
   "codemirror_mode": {
    "name": "ipython",
    "version": 3
   },
   "file_extension": ".py",
   "mimetype": "text/x-python",
   "name": "python",
   "nbconvert_exporter": "python",
   "pygments_lexer": "ipython3",
   "version": "3.11.6"
  },
  "orig_nbformat": 4
 },
 "nbformat": 4,
 "nbformat_minor": 2
}
