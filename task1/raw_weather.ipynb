{
 "cells": [
  {
   "cell_type": "code",
   "execution_count": 41,
   "metadata": {},
   "outputs": [],
   "source": [
    "import pandas as pd"
   ]
  },
  {
   "cell_type": "code",
   "execution_count": 42,
   "metadata": {},
   "outputs": [
    {
     "name": "stderr",
     "output_type": "stream",
     "text": [
      "/var/folders/sg/hlv7r8p13tj6dbrhj1phzxlm0000gn/T/ipykernel_20234/1413179625.py:1: DtypeWarning: Columns (4,7,8,9,11,12,16,24,27,29,36) have mixed types. Specify dtype option on import or set low_memory=False.\n",
      "  df_weather = pd.read_csv('./data/weather_data_eng.csv')\n"
     ]
    },
    {
     "name": "stdout",
     "output_type": "stream",
     "text": [
      "<class 'pandas.core.frame.DataFrame'>\n",
      "RangeIndex: 2450000 entries, 0 to 2449999\n",
      "Data columns (total 39 columns):\n",
      " #   Column                  Dtype  \n",
      "---  ------                  -----  \n",
      " 0   id                      object \n",
      " 1   type                    object \n",
      " 2   longitude               float64\n",
      " 3   latitude                float64\n",
      " 4   TEMP_FLAG               object \n",
      " 5   HUMIDEX_FLAG            float64\n",
      " 6   LOCAL_MONTH             int64  \n",
      " 7   PRECIP_AMOUNT_FLAG      object \n",
      " 8   WINDCHILL_FLAG          object \n",
      " 9   WIND_SPEED_FLAG         object \n",
      " 10  LOCAL_DATE              object \n",
      " 11  RELATIVE_HUMIDITY_FLAG  object \n",
      " 12  WEATHER_ENG_DESC        object \n",
      " 13  LOCAL_HOUR              int64  \n",
      " 14  RELATIVE_HUMIDITY       float64\n",
      " 15  LOCAL_DAY               int64  \n",
      " 16  STATION_PRESSURE_FLAG   object \n",
      " 17  WIND_SPEED              float64\n",
      " 18  VISIBILITY              float64\n",
      " 19  LOCAL_YEAR              int64  \n",
      " 20  UTC_DAY                 int64  \n",
      " 21  TEMP                    float64\n",
      " 22  DEW_POINT_TEMP          float64\n",
      " 23  PROVINCE_CODE           object \n",
      " 24  CLIMATE_IDENTIFIER      object \n",
      " 25  HUMIDEX                 float64\n",
      " 26  ID                      object \n",
      " 27  WIND_DIRECTION_FLAG     object \n",
      " 28  WINDCHILL               float64\n",
      " 29  DEW_POINT_TEMP_FLAG     object \n",
      " 30  UTC_YEAR                int64  \n",
      " 31  UTC_MONTH               int64  \n",
      " 32  STATION_PRESSURE        float64\n",
      " 33  WIND_DIRECTION          float64\n",
      " 34  STATION_NAME            object \n",
      " 35  PRECIP_AMOUNT           float64\n",
      " 36  VISIBILITY_FLAG         object \n",
      " 37  UTC_DATE                object \n",
      " 38  WEATHER_FRE_DESC        object \n",
      "dtypes: float64(13), int64(7), object(19)\n",
      "memory usage: 729.0+ MB\n"
     ]
    }
   ],
   "source": [
    "df_weather = pd.read_csv('./data/weather_data_eng.csv')\n",
    "df_weather.info()"
   ]
  },
  {
   "cell_type": "code",
   "execution_count": 47,
   "metadata": {},
   "outputs": [],
   "source": [
    "WIND_SPEED_THRESHOLD = 50.0\n",
    "# > 50 km/h is considered Wind storm\n",
    "SNOW_PRECIP_THRESHOLD = 30.0\n",
    "# > 30 mm is considered Snow storm\n",
    "RAIN_PRECIP_THRESHOLD = 20.0\n",
    "# > 20 mm is considered Rain storm\n",
    "\"\"\"\n",
    "severe_wind_days = combined_df[combined_df['WIND_SPEED']\n",
    "                               > WIND_SPEED_THRESHOLD]\n",
    "\n",
    "winter_storm_days = combined_df[(combined_df['type'] == 'snow') & (\n",
    "    combined_df['PRECIP_AMOUNT'] >= SNOW_PRECIP_THRESHOLD)]\n",
    "\n",
    "rainny_storm = combined_df[(combined_df['type'] == 'rain') & (combined_df['PRECIP_AMOUNT'] >= RAIN_PRECIP_THRESHOLD)]\n",
    "\"\"\"\n",
    "\n",
    "storm_severe = df_weather[df_weather['WIND_SPEED'] > WIND_SPEED_THRESHOLD]\n",
    "snow_severe = df_weather[(df_weather['WEATHER_ENG_DESC'].str.contains('snow')) & (\n",
    "    df_weather['PRECIP_AMOUNT'] >= SNOW_PRECIP_THRESHOLD)]\n",
    "rain_severe = df_weather[(df_weather['WEATHER_ENG_DESC'].str.contains('rain')) & (df_weather['PRECIP_AMOUNT'] >= RAIN_PRECIP_THRESHOLD)]"
   ]
  },
  {
   "cell_type": "code",
   "execution_count": 44,
   "metadata": {},
   "outputs": [],
   "source": [
    "storm_severe.head()\n",
    "storm_severe.to_csv('./storm_severe.csv', index=False)\n"
   ]
  },
  {
   "cell_type": "code",
   "execution_count": 46,
   "metadata": {},
   "outputs": [],
   "source": [
    "snow_severe.head()\n",
    "snow_severe.to_csv('./snow_severe.csv', index=False)"
   ]
  },
  {
   "cell_type": "code",
   "execution_count": null,
   "metadata": {},
   "outputs": [],
   "source": [
    "weather_eng_desc_unique = df_weather['WEATHER_ENG_DESC'].unique()\n",
    "# Print each unique value line by line\n",
    "for value in weather_eng_desc_unique:\n",
    "    if isinstance(value, str) and 'Snow' in value:\n",
    "        print(value)"
   ]
  },
  {
   "cell_type": "code",
   "execution_count": 48,
   "metadata": {},
   "outputs": [
    {
     "data": {
      "text/html": [
       "<div>\n",
       "<style scoped>\n",
       "    .dataframe tbody tr th:only-of-type {\n",
       "        vertical-align: middle;\n",
       "    }\n",
       "\n",
       "    .dataframe tbody tr th {\n",
       "        vertical-align: top;\n",
       "    }\n",
       "\n",
       "    .dataframe thead th {\n",
       "        text-align: right;\n",
       "    }\n",
       "</style>\n",
       "<table border=\"1\" class=\"dataframe\">\n",
       "  <thead>\n",
       "    <tr style=\"text-align: right;\">\n",
       "      <th></th>\n",
       "      <th>id</th>\n",
       "      <th>type</th>\n",
       "      <th>longitude</th>\n",
       "      <th>latitude</th>\n",
       "      <th>TEMP_FLAG</th>\n",
       "      <th>HUMIDEX_FLAG</th>\n",
       "      <th>LOCAL_MONTH</th>\n",
       "      <th>PRECIP_AMOUNT_FLAG</th>\n",
       "      <th>WINDCHILL_FLAG</th>\n",
       "      <th>WIND_SPEED_FLAG</th>\n",
       "      <th>...</th>\n",
       "      <th>DEW_POINT_TEMP_FLAG</th>\n",
       "      <th>UTC_YEAR</th>\n",
       "      <th>UTC_MONTH</th>\n",
       "      <th>STATION_PRESSURE</th>\n",
       "      <th>WIND_DIRECTION</th>\n",
       "      <th>STATION_NAME</th>\n",
       "      <th>PRECIP_AMOUNT</th>\n",
       "      <th>VISIBILITY_FLAG</th>\n",
       "      <th>UTC_DATE</th>\n",
       "      <th>WEATHER_FRE_DESC</th>\n",
       "    </tr>\n",
       "  </thead>\n",
       "  <tbody>\n",
       "    <tr>\n",
       "      <th>689</th>\n",
       "      <td>6158875.2016.10.27.11</td>\n",
       "      <td>Feature</td>\n",
       "      <td>-77.528056</td>\n",
       "      <td>44.118889</td>\n",
       "      <td>NaN</td>\n",
       "      <td>NaN</td>\n",
       "      <td>10</td>\n",
       "      <td>NaN</td>\n",
       "      <td>NaN</td>\n",
       "      <td>NaN</td>\n",
       "      <td>...</td>\n",
       "      <td>NaN</td>\n",
       "      <td>2016</td>\n",
       "      <td>10</td>\n",
       "      <td>101.09</td>\n",
       "      <td>7.0</td>\n",
       "      <td>TRENTON A</td>\n",
       "      <td>NaN</td>\n",
       "      <td>NaN</td>\n",
       "      <td>2016-10-27T16:00:00</td>\n",
       "      <td>Neige,Brouillard</td>\n",
       "    </tr>\n",
       "    <tr>\n",
       "      <th>690</th>\n",
       "      <td>6158875.2016.10.27.12</td>\n",
       "      <td>Feature</td>\n",
       "      <td>-77.528056</td>\n",
       "      <td>44.118889</td>\n",
       "      <td>NaN</td>\n",
       "      <td>NaN</td>\n",
       "      <td>10</td>\n",
       "      <td>NaN</td>\n",
       "      <td>NaN</td>\n",
       "      <td>NaN</td>\n",
       "      <td>...</td>\n",
       "      <td>NaN</td>\n",
       "      <td>2016</td>\n",
       "      <td>10</td>\n",
       "      <td>100.97</td>\n",
       "      <td>7.0</td>\n",
       "      <td>TRENTON A</td>\n",
       "      <td>NaN</td>\n",
       "      <td>NaN</td>\n",
       "      <td>2016-10-27T17:00:00</td>\n",
       "      <td>Neige,Brouillard</td>\n",
       "    </tr>\n",
       "    <tr>\n",
       "      <th>691</th>\n",
       "      <td>6158875.2016.10.27.13</td>\n",
       "      <td>Feature</td>\n",
       "      <td>-77.528056</td>\n",
       "      <td>44.118889</td>\n",
       "      <td>NaN</td>\n",
       "      <td>NaN</td>\n",
       "      <td>10</td>\n",
       "      <td>NaN</td>\n",
       "      <td>NaN</td>\n",
       "      <td>NaN</td>\n",
       "      <td>...</td>\n",
       "      <td>NaN</td>\n",
       "      <td>2016</td>\n",
       "      <td>10</td>\n",
       "      <td>100.80</td>\n",
       "      <td>7.0</td>\n",
       "      <td>TRENTON A</td>\n",
       "      <td>NaN</td>\n",
       "      <td>NaN</td>\n",
       "      <td>2016-10-27T18:00:00</td>\n",
       "      <td>Neige,Brouillard</td>\n",
       "    </tr>\n",
       "    <tr>\n",
       "      <th>1265</th>\n",
       "      <td>6158875.2016.11.20.11</td>\n",
       "      <td>Feature</td>\n",
       "      <td>-77.528056</td>\n",
       "      <td>44.118889</td>\n",
       "      <td>NaN</td>\n",
       "      <td>NaN</td>\n",
       "      <td>11</td>\n",
       "      <td>NaN</td>\n",
       "      <td>NaN</td>\n",
       "      <td>NaN</td>\n",
       "      <td>...</td>\n",
       "      <td>NaN</td>\n",
       "      <td>2016</td>\n",
       "      <td>11</td>\n",
       "      <td>99.22</td>\n",
       "      <td>33.0</td>\n",
       "      <td>TRENTON A</td>\n",
       "      <td>NaN</td>\n",
       "      <td>NaN</td>\n",
       "      <td>2016-11-20T16:00:00</td>\n",
       "      <td>Neige</td>\n",
       "    </tr>\n",
       "    <tr>\n",
       "      <th>1266</th>\n",
       "      <td>6158875.2016.11.20.12</td>\n",
       "      <td>Feature</td>\n",
       "      <td>-77.528056</td>\n",
       "      <td>44.118889</td>\n",
       "      <td>NaN</td>\n",
       "      <td>NaN</td>\n",
       "      <td>11</td>\n",
       "      <td>NaN</td>\n",
       "      <td>NaN</td>\n",
       "      <td>NaN</td>\n",
       "      <td>...</td>\n",
       "      <td>NaN</td>\n",
       "      <td>2016</td>\n",
       "      <td>11</td>\n",
       "      <td>99.19</td>\n",
       "      <td>30.0</td>\n",
       "      <td>TRENTON A</td>\n",
       "      <td>NaN</td>\n",
       "      <td>NaN</td>\n",
       "      <td>2016-11-20T17:00:00</td>\n",
       "      <td>Neige</td>\n",
       "    </tr>\n",
       "  </tbody>\n",
       "</table>\n",
       "<p>5 rows × 39 columns</p>\n",
       "</div>"
      ],
      "text/plain": [
       "                         id     type  longitude   latitude TEMP_FLAG  \\\n",
       "689   6158875.2016.10.27.11  Feature -77.528056  44.118889       NaN   \n",
       "690   6158875.2016.10.27.12  Feature -77.528056  44.118889       NaN   \n",
       "691   6158875.2016.10.27.13  Feature -77.528056  44.118889       NaN   \n",
       "1265  6158875.2016.11.20.11  Feature -77.528056  44.118889       NaN   \n",
       "1266  6158875.2016.11.20.12  Feature -77.528056  44.118889       NaN   \n",
       "\n",
       "      HUMIDEX_FLAG  LOCAL_MONTH PRECIP_AMOUNT_FLAG WINDCHILL_FLAG  \\\n",
       "689            NaN           10                NaN            NaN   \n",
       "690            NaN           10                NaN            NaN   \n",
       "691            NaN           10                NaN            NaN   \n",
       "1265           NaN           11                NaN            NaN   \n",
       "1266           NaN           11                NaN            NaN   \n",
       "\n",
       "     WIND_SPEED_FLAG  ... DEW_POINT_TEMP_FLAG UTC_YEAR UTC_MONTH  \\\n",
       "689              NaN  ...                 NaN     2016        10   \n",
       "690              NaN  ...                 NaN     2016        10   \n",
       "691              NaN  ...                 NaN     2016        10   \n",
       "1265             NaN  ...                 NaN     2016        11   \n",
       "1266             NaN  ...                 NaN     2016        11   \n",
       "\n",
       "      STATION_PRESSURE  WIND_DIRECTION  STATION_NAME PRECIP_AMOUNT  \\\n",
       "689             101.09             7.0     TRENTON A           NaN   \n",
       "690             100.97             7.0     TRENTON A           NaN   \n",
       "691             100.80             7.0     TRENTON A           NaN   \n",
       "1265             99.22            33.0     TRENTON A           NaN   \n",
       "1266             99.19            30.0     TRENTON A           NaN   \n",
       "\n",
       "      VISIBILITY_FLAG             UTC_DATE  WEATHER_FRE_DESC  \n",
       "689               NaN  2016-10-27T16:00:00  Neige,Brouillard  \n",
       "690               NaN  2016-10-27T17:00:00  Neige,Brouillard  \n",
       "691               NaN  2016-10-27T18:00:00  Neige,Brouillard  \n",
       "1265              NaN  2016-11-20T16:00:00             Neige  \n",
       "1266              NaN  2016-11-20T17:00:00             Neige  \n",
       "\n",
       "[5 rows x 39 columns]"
      ]
     },
     "execution_count": 48,
     "metadata": {},
     "output_type": "execute_result"
    }
   ],
   "source": [
    "snow_rows = df_weather[df_weather['WEATHER_ENG_DESC'].notna() & df_weather['WEATHER_ENG_DESC'].str.contains('Snow')]\n",
    "snow_rows.head()"
   ]
  },
  {
   "cell_type": "code",
   "execution_count": 30,
   "metadata": {},
   "outputs": [],
   "source": [
    "snow_rows.to_csv('./snow_rows.csv', index=False)"
   ]
  },
  {
   "cell_type": "code",
   "execution_count": 34,
   "metadata": {},
   "outputs": [],
   "source": [
    "rain_rows = df_weather[df_weather['WEATHER_ENG_DESC'].notna() & df_weather['WEATHER_ENG_DESC'].str.contains('Rain')]\n",
    "rain_rows.head()\n",
    "rain_rows.to_csv('./rain_rows.csv', index=False)"
   ]
  },
  {
   "cell_type": "code",
   "execution_count": 50,
   "metadata": {},
   "outputs": [
    {
     "data": {
      "text/plain": [
       "LOCAL_DATE           STATION_NAME  \n",
       "2016-01-10 11:00:00  CHATHAM KENT      52.0\n",
       "2016-01-10 13:00:00  CHATHAM KENT      58.0\n",
       "2016-01-10 14:00:00  CHATHAM KENT      58.0\n",
       "2016-01-10 16:00:00  TORONTO INTL A    57.0\n",
       "2016-01-10 17:00:00  TORONTO INTL A    52.0\n",
       "Name: WIND_SPEED, dtype: float64"
      ]
     },
     "execution_count": 50,
     "metadata": {},
     "output_type": "execute_result"
    }
   ],
   "source": [
    "max_wind_guts = storm_severe.groupby(['LOCAL_DATE', 'STATION_NAME'])['WIND_SPEED'].max()\n",
    "max_wind_guts.head()"
   ]
  },
  {
   "cell_type": "code",
   "execution_count": 52,
   "metadata": {},
   "outputs": [
    {
     "data": {
      "text/plain": [
       "STATION_NAME\n",
       "BIG TROUT LAKE            54.0\n",
       "BIG TROUT LAKE A          58.0\n",
       "BURLINGTON PIERS (AUT)    57.0\n",
       "CAMERON FALLS (AUT)       59.0\n",
       "CARIBOU ISLAND (AUT)      77.0\n",
       "Name: WIND_SPEED, dtype: float64"
      ]
     },
     "execution_count": 52,
     "metadata": {},
     "output_type": "execute_result"
    }
   ],
   "source": [
    "stations_with_highest_wind_gusts = storm_severe.groupby(['STATION_NAME'])['WIND_SPEED'].max()\n",
    "stations_with_highest_wind_gusts.head()"
   ]
  },
  {
   "cell_type": "code",
   "execution_count": 64,
   "metadata": {},
   "outputs": [
    {
     "data": {
      "text/plain": [
       "LOCAL_DATE           STATION_NAME         longitude   latitude   TEMP\n",
       "2022-01-01 19:00:00  KITCHENER/WATERLOO   -80.378611  43.460833  -0.3    0.0\n",
       "2022-01-01 20:00:00  KITCHENER/WATERLOO   -80.378611  43.460833  -1.6    0.2\n",
       "                     TORONTO CITY CENTRE  -79.396111  43.627500   0.9    0.2\n",
       "                     TRENTON A            -77.528056  44.118889   1.3    NaN\n",
       "2022-01-01 21:00:00  KITCHENER/WATERLOO   -80.378611  43.460833  -2.4    0.0\n",
       "Name: PRECIP_AMOUNT, dtype: float64"
      ]
     },
     "execution_count": 64,
     "metadata": {},
     "output_type": "execute_result"
    }
   ],
   "source": [
    "filter_snow_rows = snow_rows[snow_rows['UTC_YEAR'] > 2021]\n",
    "\n",
    "stations_with_highest_snow = filter_snow_rows.groupby(['LOCAL_DATE', 'STATION_NAME', 'longitude', 'latitude', 'TEMP'])['PRECIP_AMOUNT'].max()\n",
    "stations_with_highest_snow.head()"
   ]
  },
  {
   "cell_type": "code",
   "execution_count": 83,
   "metadata": {},
   "outputs": [
    {
     "data": {
      "text/plain": [
       "LOCAL_DATE           STATION_NAME         longitude   latitude\n",
       "2022-12-26 10:00:00  TORONTO CITY CENTRE  -79.396111  43.6275    -5.7\n",
       "2022-12-26 11:00:00  TORONTO CITY CENTRE  -79.396111  43.6275    -5.5\n",
       "2022-12-26 15:00:00  TORONTO CITY CENTRE  -79.396111  43.6275    -5.0\n",
       "2022-12-26 16:00:00  TORONTO CITY CENTRE  -79.396111  43.6275    -4.9\n",
       "2022-12-27 12:00:00  TORONTO CITY CENTRE  -79.396111  43.6275    -3.6\n",
       "Name: TEMP, dtype: float64"
      ]
     },
     "execution_count": 83,
     "metadata": {},
     "output_type": "execute_result"
    }
   ],
   "source": [
    "filter_location_toronto = snow_rows[snow_rows['STATION_NAME'].str.contains('TORONTO') & (snow_rows['UTC_YEAR'] > 2021)]\n",
    "filter_location_toronto.head()\n",
    "max_snow_toronto = filter_location_toronto.groupby(['LOCAL_DATE', 'STATION_NAME', 'longitude', 'latitude'])['TEMP'].max()\n",
    "max_snow_toronto.sort_values(ascending=False)\n",
    "max_snow_toronto.head()\n"
   ]
  }
 ],
 "metadata": {
  "kernelspec": {
   "display_name": "venv",
   "language": "python",
   "name": "python3"
  },
  "language_info": {
   "codemirror_mode": {
    "name": "ipython",
    "version": 3
   },
   "file_extension": ".py",
   "mimetype": "text/x-python",
   "name": "python",
   "nbconvert_exporter": "python",
   "pygments_lexer": "ipython3",
   "version": "3.11.6"
  },
  "orig_nbformat": 4
 },
 "nbformat": 4,
 "nbformat_minor": 2
}
