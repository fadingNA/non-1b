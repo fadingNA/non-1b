{
 "cells": [
  {
   "cell_type": "code",
   "execution_count": null,
   "metadata": {},
   "outputs": [],
   "source": [
    "!wget https://raw.githubusercontent.com/karpathy/char-rnn/master/data/tinyshakespeare/input.txt"
   ]
  },
  {
   "cell_type": "code",
   "execution_count": null,
   "metadata": {},
   "outputs": [],
   "source": [
    "with open('input.txt', 'r', encoding='utf=8') as f:\n",
    "    text = f.read()\n"
   ]
  },
  {
   "cell_type": "code",
   "execution_count": null,
   "metadata": {},
   "outputs": [],
   "source": [
    "print(f\"Length of text: {len(text)} characters\")"
   ]
  },
  {
   "cell_type": "code",
   "execution_count": null,
   "metadata": {},
   "outputs": [],
   "source": [
    "print(text[:50])"
   ]
  },
  {
   "cell_type": "code",
   "execution_count": 10,
   "metadata": {},
   "outputs": [],
   "source": [
    "def sorteds(texts: str):\n",
    "    chars = sorted(list(set(texts)))\n",
    "    vocab_size = len(chars)\n",
    "    print(''.join(chars))\n",
    "    print(vocab_size)"
   ]
  },
  {
   "cell_type": "code",
   "execution_count": 11,
   "metadata": {},
   "outputs": [
    {
     "ename": "RecursionError",
     "evalue": "maximum recursion depth exceeded",
     "output_type": "error",
     "traceback": [
      "\u001b[0;31m---------------------------------------------------------------------------\u001b[0m",
      "\u001b[0;31mRecursionError\u001b[0m                            Traceback (most recent call last)",
      "Cell \u001b[0;32mIn[11], line 1\u001b[0m\n\u001b[0;32m----> 1\u001b[0m sorteds(text)\n",
      "Cell \u001b[0;32mIn[10], line 2\u001b[0m, in \u001b[0;36msorteds\u001b[0;34m(texts)\u001b[0m\n\u001b[1;32m      1\u001b[0m \u001b[39mdef\u001b[39;00m \u001b[39msorteds\u001b[39m(texts: \u001b[39mstr\u001b[39m):\n\u001b[0;32m----> 2\u001b[0m     chars \u001b[39m=\u001b[39m \u001b[39msorted\u001b[39;49m(\u001b[39mlist\u001b[39;49m(\u001b[39mset\u001b[39;49m(texts)))\n\u001b[1;32m      3\u001b[0m     vocab_size \u001b[39m=\u001b[39m \u001b[39mlen\u001b[39m(chars)\n\u001b[1;32m      4\u001b[0m     \u001b[39mprint\u001b[39m(\u001b[39m'\u001b[39m\u001b[39m'\u001b[39m\u001b[39m.\u001b[39mjoin(chars))\n",
      "Cell \u001b[0;32mIn[6], line 2\u001b[0m, in \u001b[0;36msorted\u001b[0;34m(texts)\u001b[0m\n\u001b[1;32m      1\u001b[0m \u001b[39mdef\u001b[39;00m \u001b[39msorted\u001b[39m(texts: \u001b[39mstr\u001b[39m):\n\u001b[0;32m----> 2\u001b[0m     chars \u001b[39m=\u001b[39m \u001b[39msorted\u001b[39;49m(\u001b[39mlist\u001b[39;49m(\u001b[39mset\u001b[39;49m(texts)))\n",
      "Cell \u001b[0;32mIn[6], line 2\u001b[0m, in \u001b[0;36msorted\u001b[0;34m(texts)\u001b[0m\n\u001b[1;32m      1\u001b[0m \u001b[39mdef\u001b[39;00m \u001b[39msorted\u001b[39m(texts: \u001b[39mstr\u001b[39m):\n\u001b[0;32m----> 2\u001b[0m     chars \u001b[39m=\u001b[39m \u001b[39msorted\u001b[39;49m(\u001b[39mlist\u001b[39;49m(\u001b[39mset\u001b[39;49m(texts)))\n",
      "    \u001b[0;31m[... skipping similar frames: sorted at line 2 (2970 times)]\u001b[0m\n",
      "Cell \u001b[0;32mIn[6], line 2\u001b[0m, in \u001b[0;36msorted\u001b[0;34m(texts)\u001b[0m\n\u001b[1;32m      1\u001b[0m \u001b[39mdef\u001b[39;00m \u001b[39msorted\u001b[39m(texts: \u001b[39mstr\u001b[39m):\n\u001b[0;32m----> 2\u001b[0m     chars \u001b[39m=\u001b[39m \u001b[39msorted\u001b[39;49m(\u001b[39mlist\u001b[39;49m(\u001b[39mset\u001b[39;49m(texts)))\n",
      "\u001b[0;31mRecursionError\u001b[0m: maximum recursion depth exceeded"
     ]
    }
   ],
   "source": [
    "sorteds(text)"
   ]
  },
  {
   "cell_type": "code",
   "execution_count": null,
   "metadata": {},
   "outputs": [],
   "source": [
    "chars = sorted(list(set(text)))\n",
    "vocab_size = len(chars)\n",
    "print(''.join(chars))\n",
    "print(vocab_size)"
   ]
  },
  {
   "cell_type": "code",
   "execution_count": null,
   "metadata": {},
   "outputs": [],
   "source": []
  }
 ],
 "metadata": {
  "kernelspec": {
   "display_name": ".venv",
   "language": "python",
   "name": "python3"
  },
  "language_info": {
   "codemirror_mode": {
    "name": "ipython",
    "version": 3
   },
   "file_extension": ".py",
   "mimetype": "text/x-python",
   "name": "python",
   "nbconvert_exporter": "python",
   "pygments_lexer": "ipython3",
   "version": "3.11.5"
  },
  "orig_nbformat": 4
 },
 "nbformat": 4,
 "nbformat_minor": 2
}
